{
  "nbformat": 4,
  "nbformat_minor": 0,
  "metadata": {
    "colab": {
      "name": "Tp_khnifass_recommendedSystem.ipynb",
      "provenance": [],
      "include_colab_link": true
    },
    "kernelspec": {
      "name": "python3",
      "display_name": "Python 3"
    }
  },
  "cells": [
    {
      "cell_type": "markdown",
      "metadata": {
        "id": "view-in-github",
        "colab_type": "text"
      },
      "source": [
        "<a href=\"https://colab.research.google.com/github/chihab216/Recommended_System/blob/master/Tp_khnifass_recommendedSystem.ipynb\" target=\"_parent\"><img src=\"https://colab.research.google.com/assets/colab-badge.svg\" alt=\"Open In Colab\"/></a>"
      ]
    },
    {
      "cell_type": "markdown",
      "metadata": {
        "id": "dlSD1AhFD388",
        "colab_type": "text"
      },
      "source": [
        "The dataset is avaible here : http://files.grouplens.org/datasets/movielens/ml-latest-small-README.html"
      ]
    },
    {
      "cell_type": "code",
      "metadata": {
        "id": "2t-KRGmxhUst",
        "colab_type": "code",
        "colab": {}
      },
      "source": [
        "bfrom google.colab import files\n",
        "files.upload()"
      ],
      "execution_count": null,
      "outputs": []
    },
    {
      "cell_type": "code",
      "metadata": {
        "id": "3m2so-wqyEG3",
        "colab_type": "code",
        "colab": {
          "base_uri": "https://localhost:8080/",
          "height": 571
        },
        "outputId": "9961627e-9ea0-4653-ad50-16f2cbb21799"
      },
      "source": [
        "import pandas as pd\n",
        "ratings = pd.read_csv('ML_ratings.csv')\n",
        "\n",
        "\n",
        "My_rating = pd.DataFrame({'userId': [(max(ratings.userId)+1) for i in range (10) ], 'movieId': [1,2,3,4,5,6,34,46,47,50],'rating': [2.0,2.0,3.0,4.0,3.0,3.3,3.4,4.6,4.7,5.0]})\n",
        "\n",
        "ratings = ratings.append(My_rating, ignore_index=True)\n",
        "\n",
        "ratings"
      ],
      "execution_count": null,
      "outputs": [
        {
          "output_type": "stream",
          "text": [
            "/usr/local/lib/python3.6/dist-packages/pandas/core/frame.py:7138: FutureWarning: Sorting because non-concatenation axis is not aligned. A future version\n",
            "of pandas will change to not sort by default.\n",
            "\n",
            "To accept the future behavior, pass 'sort=False'.\n",
            "\n",
            "To retain the current behavior and silence the warning, pass 'sort=True'.\n",
            "\n",
            "  sort=sort,\n"
          ],
          "name": "stderr"
        },
        {
          "output_type": "execute_result",
          "data": {
            "text/html": [
              "<div>\n",
              "<style scoped>\n",
              "    .dataframe tbody tr th:only-of-type {\n",
              "        vertical-align: middle;\n",
              "    }\n",
              "\n",
              "    .dataframe tbody tr th {\n",
              "        vertical-align: top;\n",
              "    }\n",
              "\n",
              "    .dataframe thead th {\n",
              "        text-align: right;\n",
              "    }\n",
              "</style>\n",
              "<table border=\"1\" class=\"dataframe\">\n",
              "  <thead>\n",
              "    <tr style=\"text-align: right;\">\n",
              "      <th></th>\n",
              "      <th>movieId</th>\n",
              "      <th>rating</th>\n",
              "      <th>timestamp</th>\n",
              "      <th>userId</th>\n",
              "    </tr>\n",
              "  </thead>\n",
              "  <tbody>\n",
              "    <tr>\n",
              "      <th>0</th>\n",
              "      <td>1</td>\n",
              "      <td>4.0</td>\n",
              "      <td>964982703.0</td>\n",
              "      <td>1</td>\n",
              "    </tr>\n",
              "    <tr>\n",
              "      <th>1</th>\n",
              "      <td>3</td>\n",
              "      <td>4.0</td>\n",
              "      <td>964981247.0</td>\n",
              "      <td>1</td>\n",
              "    </tr>\n",
              "    <tr>\n",
              "      <th>2</th>\n",
              "      <td>6</td>\n",
              "      <td>4.0</td>\n",
              "      <td>964982224.0</td>\n",
              "      <td>1</td>\n",
              "    </tr>\n",
              "    <tr>\n",
              "      <th>3</th>\n",
              "      <td>47</td>\n",
              "      <td>5.0</td>\n",
              "      <td>964983815.0</td>\n",
              "      <td>1</td>\n",
              "    </tr>\n",
              "    <tr>\n",
              "      <th>4</th>\n",
              "      <td>50</td>\n",
              "      <td>5.0</td>\n",
              "      <td>964982931.0</td>\n",
              "      <td>1</td>\n",
              "    </tr>\n",
              "    <tr>\n",
              "      <th>...</th>\n",
              "      <td>...</td>\n",
              "      <td>...</td>\n",
              "      <td>...</td>\n",
              "      <td>...</td>\n",
              "    </tr>\n",
              "    <tr>\n",
              "      <th>100841</th>\n",
              "      <td>6</td>\n",
              "      <td>3.3</td>\n",
              "      <td>NaN</td>\n",
              "      <td>611</td>\n",
              "    </tr>\n",
              "    <tr>\n",
              "      <th>100842</th>\n",
              "      <td>34</td>\n",
              "      <td>3.4</td>\n",
              "      <td>NaN</td>\n",
              "      <td>611</td>\n",
              "    </tr>\n",
              "    <tr>\n",
              "      <th>100843</th>\n",
              "      <td>46</td>\n",
              "      <td>4.6</td>\n",
              "      <td>NaN</td>\n",
              "      <td>611</td>\n",
              "    </tr>\n",
              "    <tr>\n",
              "      <th>100844</th>\n",
              "      <td>47</td>\n",
              "      <td>4.7</td>\n",
              "      <td>NaN</td>\n",
              "      <td>611</td>\n",
              "    </tr>\n",
              "    <tr>\n",
              "      <th>100845</th>\n",
              "      <td>50</td>\n",
              "      <td>5.0</td>\n",
              "      <td>NaN</td>\n",
              "      <td>611</td>\n",
              "    </tr>\n",
              "  </tbody>\n",
              "</table>\n",
              "<p>100846 rows × 4 columns</p>\n",
              "</div>"
            ],
            "text/plain": [
              "        movieId  rating    timestamp  userId\n",
              "0             1     4.0  964982703.0       1\n",
              "1             3     4.0  964981247.0       1\n",
              "2             6     4.0  964982224.0       1\n",
              "3            47     5.0  964983815.0       1\n",
              "4            50     5.0  964982931.0       1\n",
              "...         ...     ...          ...     ...\n",
              "100841        6     3.3          NaN     611\n",
              "100842       34     3.4          NaN     611\n",
              "100843       46     4.6          NaN     611\n",
              "100844       47     4.7          NaN     611\n",
              "100845       50     5.0          NaN     611\n",
              "\n",
              "[100846 rows x 4 columns]"
            ]
          },
          "metadata": {
            "tags": []
          },
          "execution_count": 2
        }
      ]
    },
    {
      "cell_type": "code",
      "metadata": {
        "id": "UrIAmDq_g8tU",
        "colab_type": "code",
        "colab": {
          "base_uri": "https://localhost:8080/",
          "height": 331
        },
        "outputId": "b1fa4622-0559-4f99-eeaa-4a7d57428bfd"
      },
      "source": [
        "pip install surprise"
      ],
      "execution_count": null,
      "outputs": [
        {
          "output_type": "stream",
          "text": [
            "Collecting surprise\n",
            "  Downloading https://files.pythonhosted.org/packages/61/de/e5cba8682201fcf9c3719a6fdda95693468ed061945493dea2dd37c5618b/surprise-0.1-py2.py3-none-any.whl\n",
            "Collecting scikit-surprise\n",
            "\u001b[?25l  Downloading https://files.pythonhosted.org/packages/f5/da/b5700d96495fb4f092be497f02492768a3d96a3f4fa2ae7dea46d4081cfa/scikit-surprise-1.1.0.tar.gz (6.4MB)\n",
            "\u001b[K     |████████████████████████████████| 6.5MB 9.2MB/s \n",
            "\u001b[?25hRequirement already satisfied: joblib>=0.11 in /usr/local/lib/python3.6/dist-packages (from scikit-surprise->surprise) (0.14.0)\n",
            "Requirement already satisfied: numpy>=1.11.2 in /usr/local/lib/python3.6/dist-packages (from scikit-surprise->surprise) (1.17.3)\n",
            "Requirement already satisfied: scipy>=1.0.0 in /usr/local/lib/python3.6/dist-packages (from scikit-surprise->surprise) (1.3.1)\n",
            "Requirement already satisfied: six>=1.10.0 in /usr/local/lib/python3.6/dist-packages (from scikit-surprise->surprise) (1.12.0)\n",
            "Building wheels for collected packages: scikit-surprise\n",
            "  Building wheel for scikit-surprise (setup.py) ... \u001b[?25l\u001b[?25hdone\n",
            "  Created wheel for scikit-surprise: filename=scikit_surprise-1.1.0-cp36-cp36m-linux_x86_64.whl size=1678051 sha256=f2cfad00b5a3ea8e708f07a0282f0954584676a05bc875337696219441323a90\n",
            "  Stored in directory: /root/.cache/pip/wheels/cc/fa/8c/16c93fccce688ae1bde7d979ff102f7bee980d9cfeb8641bcf\n",
            "Successfully built scikit-surprise\n",
            "Installing collected packages: scikit-surprise, surprise\n",
            "Successfully installed scikit-surprise-1.1.0 surprise-0.1\n"
          ],
          "name": "stdout"
        }
      ]
    },
    {
      "cell_type": "code",
      "metadata": {
        "id": "twPzqPsShXD5",
        "colab_type": "code",
        "colab": {
          "base_uri": "https://localhost:8080/",
          "height": 715
        },
        "outputId": "267958dd-ee31-4039-9408-01f9c4872d88"
      },
      "source": [
        "from surprise import NormalPredictor\n",
        "from surprise import Dataset\n",
        "from surprise import Reader\n",
        "from surprise.model_selection import cross_validate\n",
        "import surprise\n",
        "n_folds = 5\n",
        "\n",
        "# A reader is still needed but only the rating_scale param is requiered.\n",
        "reader = Reader()\n",
        "\n",
        "# The columns must correspond to user id, item id and ratings (in that order).\n",
        "data = Dataset.load_from_df(ratings[['userId', 'movieId', 'rating']], reader)\n",
        "\n",
        "#Knnbaseline\n",
        "res_KNNBaseline = cross_validate(surprise.prediction_algorithms.KNNBaseline(), data, cv=n_folds)\n",
        "res_KNNBaseline = pd.DataFrame.from_dict(res_KNNBaseline)\n",
        "mean = []\n",
        "std = []\n",
        "for col in res_KNNBaseline.columns:\n",
        "  mean.append(res_KNNBaseline[col].mean())\n",
        "  std.append(res_KNNBaseline[col].std())\n",
        "res_KNNBaseline.loc[\"mean\"] = mean\n",
        "res_KNNBaseline.loc[\"std\"] = std\n",
        "print(\"KNNBASELINE\")\n",
        "print(res_KNNBaseline)\n",
        "#svd\n",
        "res_SVD = cross_validate(surprise.prediction_algorithms.matrix_factorization.SVD(), data, cv=n_folds)\n",
        "res_SVD = pd.DataFrame.from_dict(res_SVD)\n",
        "mean = []\n",
        "std = []\n",
        "for col in res_SVD.columns:\n",
        "  mean.append(res_SVD[col].mean())\n",
        "  std.append(res_SVD[col].std())\n",
        "res_SVD.loc[\"mean\"] = mean\n",
        "res_SVD.loc[\"std\"] = std\n",
        "\n",
        "print(\"SVD\") \n",
        "print(res_SVD)\n",
        "\n",
        "res_df = pd.DataFrame([res_KNNBaseline['test_rmse'][0:5], res_SVD['test_rmse'][0:5]])\n",
        "res_df = res_df.T\n",
        "models = ['KNN_baseline', 'SVD']\n",
        "res_df.columns = models\n",
        "print(\"\\nmean results:\")\n",
        "print(res_df.mean())"
      ],
      "execution_count": null,
      "outputs": [
        {
          "output_type": "stream",
          "text": [
            "Estimating biases using als...\n",
            "Computing the msd similarity matrix...\n",
            "Done computing similarity matrix.\n",
            "Estimating biases using als...\n",
            "Computing the msd similarity matrix...\n",
            "Done computing similarity matrix.\n",
            "Estimating biases using als...\n",
            "Computing the msd similarity matrix...\n",
            "Done computing similarity matrix.\n",
            "Estimating biases using als...\n",
            "Computing the msd similarity matrix...\n",
            "Done computing similarity matrix.\n",
            "Estimating biases using als...\n",
            "Computing the msd similarity matrix...\n",
            "Done computing similarity matrix.\n",
            "KNNBASELINE\n",
            "      test_rmse  test_mae  fit_time  test_time\n",
            "0      0.881030  0.670424  0.348493   2.009964\n",
            "1      0.874955  0.669325  0.378736   2.039252\n",
            "2      0.874977  0.666025  0.375595   2.004141\n",
            "3      0.871343  0.667056  0.380049   1.960691\n",
            "4      0.877102  0.673037  0.391603   2.017291\n",
            "mean   0.875881  0.669173  0.374895   2.006268\n",
            "std    0.003545  0.002780  0.015953   0.028744\n",
            "SVD\n",
            "      test_rmse  test_mae  fit_time  test_time\n",
            "0      0.875904  0.672184  4.762560   0.217789\n",
            "1      0.876660  0.674394  4.805902   0.138870\n",
            "2      0.873001  0.673544  4.813993   0.138647\n",
            "3      0.871996  0.670027  4.812333   0.226454\n",
            "4      0.866401  0.665804  4.797356   0.220300\n",
            "mean   0.872792  0.671191  4.798429   0.188412\n",
            "std    0.004067  0.003434  0.021090   0.045437\n",
            "\n",
            "mean results:\n",
            "KNN_baseline    0.875881\n",
            "SVD             0.872792\n",
            "dtype: float64\n"
          ],
          "name": "stdout"
        }
      ]
    },
    {
      "cell_type": "code",
      "metadata": {
        "id": "HFk_-rkmwck9",
        "colab_type": "code",
        "colab": {}
      },
      "source": [
        "\n",
        "\n",
        "\n",
        "\n",
        "from __future__ import (absolute_import, division, print_function,\n",
        "\n",
        "                        unicode_literals)\n",
        "\n",
        "from collections import defaultdict\n",
        "\n",
        "\n",
        "\n",
        "from surprise import SVD\n",
        "\n",
        "from surprise import Dataset\n",
        "\n",
        "\n",
        "\n",
        "##function which give the n better prediction for all users\n",
        "\n",
        "def get_top_n(predictions, n):\n",
        "\n",
        "    \n",
        "\n",
        "\n",
        "\n",
        "    # First map the predictions to each user.\n",
        "\n",
        "    top_n = defaultdict(list)\n",
        "\n",
        "    for uid, iid, true_r, est, _ in predictions:\n",
        "\n",
        "        top_n[uid].append((iid, est))\n",
        "\n",
        "\n",
        "\n",
        "    # Then sort the predictions for each user and retrieve the k highest ones.\n",
        "\n",
        "    for uid, user_ratings in top_n.items():\n",
        "\n",
        "        user_ratings.sort(key=lambda x: x[1], reverse=True)\n",
        "\n",
        "        top_n[uid] = user_ratings[:n]\n",
        "\n",
        "\n",
        "\n",
        "    return top_n\n",
        "\n",
        "\n",
        "\n",
        "\n",
        "\n"
      ],
      "execution_count": null,
      "outputs": []
    },
    {
      "cell_type": "code",
      "metadata": {
        "id": "v-Yro3jjzy3Q",
        "colab_type": "code",
        "colab": {
          "base_uri": "https://localhost:8080/",
          "height": 311
        },
        "outputId": "ab97988b-f320-4434-9fef-34aa7c055df4"
      },
      "source": [
        "# First train an SVD algorithm on the movielens dataset.\n",
        "\n",
        "\n",
        "\n",
        "trainset = data.build_full_trainset()\n",
        "\n",
        "algo = SVD()\n",
        "\n",
        "algo.fit(trainset)\n",
        "\n",
        "\n",
        "\n",
        "\n",
        "\n",
        "testset = trainset.build_anti_testset()\n",
        "\n",
        "predictions = algo.test(testset)\n",
        "\n",
        "\n",
        "\n",
        "top_n = get_top_n(predictions, n=15)\n",
        "\n",
        "\n",
        "\n",
        "# Print the recommended items for the user 611 ( me)\n",
        "\n",
        "for uid, user_ratings in top_n.items():\n",
        "  if (uid==611):\n",
        "    ar = [[iid,est] for (iid,est) in user_ratings]\n",
        "    df = pd.DataFrame(ar, index = [i for i in range (1,16)], columns = ['ItemId', 'estimate_rate'])\n",
        "    print(df)"
      ],
      "execution_count": null,
      "outputs": [
        {
          "output_type": "stream",
          "text": [
            "    ItemId  estimate_rate\n",
            "1     1204       4.402524\n",
            "2     2329       4.349658\n",
            "3     1223       4.344793\n",
            "4      951       4.313906\n",
            "5      593       4.312332\n",
            "6     4011       4.308728\n",
            "7     1221       4.307863\n",
            "8   112852       4.268614\n",
            "9    99114       4.264717\n",
            "10    5690       4.254372\n",
            "11     318       4.253405\n",
            "12     858       4.229904\n",
            "13    1225       4.226985\n",
            "14   48516       4.217584\n",
            "15     914       4.201552\n"
          ],
          "name": "stdout"
        }
      ]
    },
    {
      "cell_type": "code",
      "metadata": {
        "id": "fE-b0IPf3_fa",
        "colab_type": "code",
        "colab": {
          "base_uri": "https://localhost:8080/",
          "height": 366
        },
        "outputId": "ef94e8cf-0868-475f-a391-fba5ed097ef4"
      },
      "source": [
        "# First train an KNN_baseline algorithm on the ratings dataset.\n",
        "\n",
        "from surprise import KNNBaseline\n",
        "\n",
        "trainset = data.build_full_trainset()\n",
        "\n",
        "algo = KNNBaseline()\n",
        "\n",
        "algo.fit(trainset)\n",
        "\n",
        "\n",
        "\n",
        "\n",
        "\n",
        "testset = trainset.build_anti_testset()\n",
        "\n",
        "predictions = algo.test(testset)\n",
        "\n",
        "\n",
        "\n",
        "top_n = get_top_n(predictions, n=15)\n",
        "\n",
        "\n",
        "\n",
        "# Print the recommended items for the user 611 ( me)\n",
        "\n",
        "for uid, user_ratings in top_n.items():\n",
        "  if (uid==611):\n",
        "    ar = [[iid,est] for (iid,est) in user_ratings]\n",
        "    df = pd.DataFrame(ar, index = [i for i in range (1,16)], columns = ['ItemId', 'estimate_rate'])\n",
        "    print(df)"
      ],
      "execution_count": null,
      "outputs": [
        {
          "output_type": "stream",
          "text": [
            "Estimating biases using als...\n",
            "Computing the msd similarity matrix...\n",
            "Done computing similarity matrix.\n",
            "    ItemId  estimate_rate\n",
            "1     3851              5\n",
            "2    59018              5\n",
            "3    60943              5\n",
            "4      391              5\n",
            "5    26326              5\n",
            "6   158966              5\n",
            "7    92494              5\n",
            "8   102217              5\n",
            "9    67618              5\n",
            "10    5867              5\n",
            "11   81535              5\n",
            "12      53              5\n",
            "13    6402              5\n",
            "14    8238              5\n",
            "15   25887              5\n"
          ],
          "name": "stdout"
        }
      ]
    }
  ]
}